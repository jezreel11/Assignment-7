{
 "cells": [
  {
   "cell_type": "markdown",
   "metadata": {},
   "source": [
    "### Making all of the needed Imports "
   ]
  },
  {
   "cell_type": "markdown",
   "metadata": {},
   "source": [
    "1. Predict whether a booking will be cancelled or not\n",
    "    * **Using the Decision Tree Classifier**"
   ]
  },
  {
   "cell_type": "code",
   "execution_count": null,
   "metadata": {},
   "outputs": [],
   "source": [
    "# I will add my code here"
   ]
  },
  {
   "cell_type": "markdown",
   "metadata": {},
   "source": [
    "2. Classify the hotel type (*resort or city*) based on booking patterns\n",
    "    * **Using the Naive Bayes** "
   ]
  },
  {
   "cell_type": "code",
   "execution_count": null,
   "metadata": {},
   "outputs": [
    {
     "name": "stdout",
     "output_type": "stream",
     "text": [
      "\n",
      "Encoding categorical features...\n",
      "Feature engineering complete!\n"
     ]
    }
   ],
   "source": [
    "# Code will be added here \n",
    "# Loading the dataset\n",
    "\n",
    "import pandas as pd\n",
    "import numpy as np\n",
    "\n",
    "df = pd.read_csv('hotel_bookings.csv')\n",
    "\n",
    "# Extracting useful features \n",
    "df['total_guests'] = df['adults'] + df['children'] + df['babies']\n",
    "df['total_nights'] = df['stays_in_weekend_nights'] + df['stays_in_week_nights']\n",
    "df['weekend_ratio'] = df['stays_in_weekend_nights'] / (df['total_nights'] + 1)\n",
    "\n",
    "# Extract useful information from dates\n",
    "df['is_summer'] = df['arrival_date_month'].isin(['June', 'July', 'August']).astype(int)\n",
    "df['is_winter'] = df['arrival_date_month'].isin(['December', 'January', 'February']).astype(int)\n",
    "\n",
    "# Handle NULL values as features because recommended the assignment tips\n",
    "# \"No agent\" or \"No company\" is actually useful information\n",
    "df['has_agent'] = (df['agent'].notna() & (df['agent'] != 'NULL')).astype(int)\n",
    "df['has_company'] = (df['company'].notna() & (df['company'] != 'NULL')).astype(int)\n",
    "\n",
    "# --- Binary Features ---\n",
    "df['is_repeated_guest'] = df['is_repeated_guest'].astype(int)\n",
    "df['is_canceled'] = df['is_canceled'].astype(int)\n",
    "\n",
    "# --- Encode Categorical Features ---\n",
    "print(\"\\nEncoding categorical features...\")\n",
    "\n",
    "# Meal type \n",
    "meal_dummies = pd.get_dummies(df['meal'], prefix='meal')\n",
    "data = pd.concat([df, meal_dummies], axis=1)\n",
    "\n",
    "# Market segment\n",
    "segment_dummies = pd.get_dummies(data['market_segment'], prefix='segment')\n",
    "data = pd.concat([df, segment_dummies], axis=1)\n",
    "\n",
    "# Customer type\n",
    "customer_dummies = pd.get_dummies(data['customer_type'], prefix='customer')\n",
    "data = pd.concat([df, customer_dummies], axis=1)\n",
    "\n",
    "# Deposit type\n",
    "deposit_dummies = pd.get_dummies(data['deposit_type'], prefix='deposit')\n",
    "data = pd.concat([df, deposit_dummies], axis=1)\n",
    "\n",
    "\n"
   ]
  }
 ],
 "metadata": {
  "kernelspec": {
   "display_name": "Python 3",
   "language": "python",
   "name": "python3"
  },
  "language_info": {
   "codemirror_mode": {
    "name": "ipython",
    "version": 3
   },
   "file_extension": ".py",
   "mimetype": "text/x-python",
   "name": "python",
   "nbconvert_exporter": "python",
   "pygments_lexer": "ipython3",
   "version": "3.12.1"
  }
 },
 "nbformat": 4,
 "nbformat_minor": 2
}
